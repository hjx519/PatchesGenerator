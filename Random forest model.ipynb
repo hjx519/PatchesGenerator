{
 "cells": [
  {
   "cell_type": "code",
   "execution_count": 1,
   "id": "e7b24806",
   "metadata": {},
   "outputs": [],
   "source": [
    "import os\n",
    "from patchify import patchify\n",
    "import numpy as np\n",
    "from sklearn.model_selection import train_test_split\n",
    "from sklearn.ensemble import RandomForestRegressor\n",
    "from sklearn.metrics import mean_squared_error\n",
    "from sklearn.metrics import mean_absolute_error\n",
    "from sklearn.metrics import make_scorer\n",
    "from matplotlib import pyplot as plt\n",
    "import joblib\n",
    "from joblib import load\n",
    "import time\n",
    "import re"
   ]
  },
  {
   "cell_type": "markdown",
   "id": "db60c51f",
   "metadata": {},
   "source": [
    "### Load patches into output_data"
   ]
  },
  {
   "cell_type": "code",
   "execution_count": 2,
   "id": "fb9a8a2e",
   "metadata": {},
   "outputs": [
    {
     "data": {
      "text/plain": [
       "(92, 7, 9, 9)"
      ]
     },
     "execution_count": 2,
     "metadata": {},
     "output_type": "execute_result"
    }
   ],
   "source": [
    "# Directory containing the npy files\n",
    "dir_path = 'patches/'\n",
    "# Get the list of .npy file names in the directory\n",
    "file_list = os.listdir(dir_path)\n",
    "# Filter the list for .npy files\n",
    "file_list = [file for file in file_list if file.endswith('.npy')]\n",
    "# Define a function to get the number from the file name\n",
    "def extract_number(f):\n",
    "    s = re.findall(\"\\d+\",f)\n",
    "    return (int(s[0]) if s else -1,f)\n",
    "# Sort the file list based on the numbers in the file names\n",
    "file_list = sorted(file_list, key=extract_number)\n",
    "# Initialize an empty list to store the arrays\n",
    "arrays = []\n",
    "# Load each .npy file into a numpy array and append it to the list\n",
    "for file in file_list:\n",
    "    array = np.load(dir_path + file)\n",
    "    arrays.append(array)\n",
    "# Stack all arrays along a new axis to create a single 4D array\n",
    "output_data = np.stack(arrays)\n",
    "output_data.shape"
   ]
  },
  {
   "attachments": {},
   "cell_type": "markdown",
   "id": "54f4ffca",
   "metadata": {},
   "source": [
    "## Prepare Training Dataset\n",
    "- Extraction of 5 by 5 Patches from 9 by 9 Patches\n",
    "- reshape patches into 1D arrays\n",
    "<img src=\"img2.png\" width=\"800\" height=\"600\">"
   ]
  },
  {
   "cell_type": "code",
   "execution_count": 3,
   "id": "4ede61de",
   "metadata": {},
   "outputs": [
    {
     "name": "stdout",
     "output_type": "stream",
     "text": [
      "(2300, 300)\n",
      "(2300,)\n"
     ]
    }
   ],
   "source": [
    "small_patch_size = 5\n",
    "centre = (small_patch_size-1) // 2\n",
    "\n",
    "X = []\n",
    "Y = []\n",
    "\n",
    "for data in output_data:\n",
    "    patches = patchify(data, (7, small_patch_size, small_patch_size), step=1)\n",
    "    patches = patches.reshape(-1, 7, small_patch_size, small_patch_size)\n",
    "    \n",
    "    X_real = patches[:, 1:, :, :].real.reshape(patches.shape[0], -1)  # Real parts\n",
    "    X_imag = patches[:, 1:, :, :].imag.reshape(patches.shape[0], -1)  # Imaginary parts\n",
    "    X_patches = np.hstack((X_real, X_imag))  # Horizontal stack\n",
    "\n",
    "    Y_patches = patches[:, 0, centre, centre]  # Central value of first layer\n",
    "    Y_patches = Y_patches.real\n",
    "    \n",
    "    X.append(X_patches)\n",
    "    Y.append(Y_patches)\n",
    "\n",
    "# Convert lists to numpy arrays\n",
    "X = np.concatenate(X)\n",
    "Y = np.concatenate(Y)\n",
    "print(X.shape)\n",
    "print(Y.shape)"
   ]
  },
  {
   "cell_type": "code",
   "execution_count": 4,
   "id": "df767635",
   "metadata": {},
   "outputs": [],
   "source": [
    "x_train, x_test, y_train, y_test = train_test_split(X, Y, test_size=0.2, random_state=4)"
   ]
  },
  {
   "cell_type": "code",
   "execution_count": 5,
   "id": "df7d8b85",
   "metadata": {
    "scrolled": true
   },
   "outputs": [
    {
     "name": "stdout",
     "output_type": "stream",
     "text": [
      "model training duration:  5.9445390701293945 s\n"
     ]
    }
   ],
   "source": [
    "start_time = time.time()\n",
    "model = RandomForestRegressor(n_estimators=138, \n",
    "                                  min_samples_split=2,\n",
    "                                  min_samples_leaf=2,\n",
    "                                  max_features=1.0,\n",
    "                                  max_depth=80,\n",
    "                                  bootstrap=True,\n",
    "                                  random_state=42,\n",
    "                                n_jobs=-1)\n",
    "model.fit(x_train, y_train)\n",
    "end_time = time.time()\n",
    "duration = end_time - start_time\n",
    "print(\"model training duration: \", duration,\"s\")"
   ]
  },
  {
   "cell_type": "code",
   "execution_count": 6,
   "id": "df768e8c",
   "metadata": {},
   "outputs": [
    {
     "name": "stdout",
     "output_type": "stream",
     "text": [
      "Mean Absolute Error(s): 0.007578013726834384\n"
     ]
    }
   ],
   "source": [
    "y_pred = model.predict(x_test)\n",
    "mae = mean_absolute_error(y_test, y_pred)\n",
    "print('Mean Absolute Error(s):', mae)"
   ]
  },
  {
   "cell_type": "code",
   "execution_count": 7,
   "id": "94ea6fad",
   "metadata": {},
   "outputs": [
    {
     "data": {
      "image/png": "[encoded data removed]",
      "text/plain": [
       "<Figure size 432x288 with 1 Axes>"
      ]
     },
     "metadata": {
      "needs_background": "light"
     },
     "output_type": "display_data"
    }
   ],
   "source": [
    "line = np.linspace(min(Y), max(y_pred), 1000)\n",
    "plt.plot(line, line, 'r', label='T2 prediction = T2 ground truth')\n",
    "plt.scatter(y_test,y_pred,s=3)\n",
    "plt.xlabel('Ground Truth T2 (s)')\n",
    "plt.ylabel('RF predicted T2 (s)')\n",
    "plt.legend(loc='lower right')\n",
    "#plt.title('RF model')\n",
    "plt.show()"
   ]
  }
 ],
 "metadata": {
  "kernelspec": {
   "display_name": "Python 3 (ipykernel)",
   "language": "python",
   "name": "python3"
  },
  "language_info": {
   "codemirror_mode": {
    "name": "ipython",
    "version": 3
   },
   "file_extension": ".py",
   "mimetype": "text/x-python",
   "name": "python",
   "nbconvert_exporter": "python",
   "pygments_lexer": "ipython3",
   "version": "3.8.13"
  }
 },
 "nbformat": 4,
 "nbformat_minor": 5
}
